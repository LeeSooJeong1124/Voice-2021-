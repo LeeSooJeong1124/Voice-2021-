{
 "cells": [
  {
   "cell_type": "markdown",
   "id": "f811dcd2",
   "metadata": {},
   "source": [
    "# **모델 개요**"
   ]
  },
  {
   "cell_type": "code",
   "execution_count": 1,
   "id": "268b35ea",
   "metadata": {},
   "outputs": [],
   "source": [
    "from train import *\n",
    "from torchsummary import summary as summary_"
   ]
  },
  {
   "cell_type": "markdown",
   "id": "8861b471",
   "metadata": {},
   "source": [
    "## **Hard Parameter Sharing**"
   ]
  },
  {
   "cell_type": "code",
   "execution_count": 5,
   "id": "9cf7ec0d",
   "metadata": {},
   "outputs": [
    {
     "name": "stdout",
     "output_type": "stream",
     "text": [
      "----------------------------------------------------------------\n",
      "        Layer (type)               Output Shape         Param #\n",
      "================================================================\n",
      "            Conv2d-1         [128, 16, 12, 398]             448\n",
      "       BatchNorm2d-2         [128, 16, 12, 398]              32\n",
      "         MaxPool2d-3          [128, 16, 6, 199]               0\n",
      "            Conv2d-4          [128, 32, 6, 199]          12,832\n",
      "       BatchNorm2d-5          [128, 32, 6, 199]              64\n",
      "         MaxPool2d-6           [128, 32, 3, 99]               0\n",
      "           Flatten-7                [128, 9504]               0\n",
      "            Linear-8                [128, 1024]       9,733,120\n",
      "            Linear-9                [128, 1024]       9,733,120\n",
      "           Linear-10                [128, 1024]       9,733,120\n",
      "          Dropout-11                [128, 1024]               0\n",
      "          Dropout-12                [128, 1024]               0\n",
      "          Dropout-13                [128, 1024]               0\n",
      "           Linear-14                 [128, 128]         131,200\n",
      "           Linear-15                 [128, 128]         131,200\n",
      "           Linear-16                 [128, 128]         131,200\n",
      "          Dropout-17                 [128, 128]               0\n",
      "          Dropout-18                 [128, 128]               0\n",
      "          Dropout-19                 [128, 128]               0\n",
      "           Linear-20                   [128, 4]             516\n",
      "           Linear-21                   [128, 2]             258\n",
      "           Linear-22                   [128, 6]             774\n",
      "================================================================\n",
      "Total params: 29,607,884\n",
      "Trainable params: 29,607,884\n",
      "Non-trainable params: 0\n",
      "----------------------------------------------------------------\n",
      "Input size (MB): 8.20\n",
      "Forward/backward pass size (MB): 267.86\n",
      "Params size (MB): 112.95\n",
      "Estimated Total Size (MB): 389.00\n",
      "----------------------------------------------------------------\n"
     ]
    }
   ],
   "source": [
    "model1 = Shared_CNN().cuda()\n",
    "summary_(model1, (3, 14, 400), batch_size=128)"
   ]
  },
  {
   "cell_type": "markdown",
   "id": "dc689a1c",
   "metadata": {},
   "source": [
    "## **CLSTM**"
   ]
  },
  {
   "cell_type": "code",
   "execution_count": 9,
   "id": "31d9af46",
   "metadata": {},
   "outputs": [
    {
     "name": "stdout",
     "output_type": "stream",
     "text": [
      "27343\n"
     ]
    }
   ],
   "source": [
    "model2 = CLSTM_Fin(batch_size=1280).cuda()\n",
    "pytorch_total_params = sum(p.numel() for p in model2.parameters() if p.requires_grad)\n",
    "print(pytorch_total_params)"
   ]
  },
  {
   "cell_type": "code",
   "execution_count": 6,
   "id": "cf7375eb",
   "metadata": {},
   "outputs": [
    {
     "data": {
      "text/plain": [
       "CLSTM_Fin(\n",
       "  (conv1): Conv2d(3, 16, kernel_size=(5, 5), stride=(1, 1), padding=(2, 2))\n",
       "  (conv2): Conv2d(16, 8, kernel_size=(3, 3), stride=(1, 1), padding=(1, 1))\n",
       "  (conv3): Conv2d(8, 1, kernel_size=(3, 3), stride=(1, 1), padding=(1, 1))\n",
       "  (bn1): BatchNorm2d(16, eps=1e-05, momentum=0.1, affine=True, track_running_stats=True)\n",
       "  (bn2): BatchNorm2d(8, eps=1e-05, momentum=0.1, affine=True, track_running_stats=True)\n",
       "  (bn3): BatchNorm2d(1, eps=1e-05, momentum=0.1, affine=True, track_running_stats=True)\n",
       "  (LSTM1): LSTM(14, 8, num_layers=2, batch_first=True)\n",
       "  (LSTM2): LSTM(8, 16, num_layers=2, batch_first=True)\n",
       "  (LSTM3): LSTM(16, 32, num_layers=2, batch_first=True)\n",
       "  (fc1): Linear(in_features=400, out_features=4, bias=True)\n",
       "  (fc2): Linear(in_features=400, out_features=2, bias=True)\n",
       "  (fc3): Linear(in_features=400, out_features=6, bias=True)\n",
       ")"
      ]
     },
     "execution_count": 6,
     "metadata": {},
     "output_type": "execute_result"
    }
   ],
   "source": [
    "model2"
   ]
  },
  {
   "cell_type": "markdown",
   "id": "59d9545e",
   "metadata": {},
   "source": [
    "## **연령**"
   ]
  },
  {
   "cell_type": "markdown",
   "id": "9369e888",
   "metadata": {},
   "source": [
    "### **CNN**"
   ]
  },
  {
   "cell_type": "code",
   "execution_count": 2,
   "id": "aec0cfad",
   "metadata": {},
   "outputs": [
    {
     "name": "stdout",
     "output_type": "stream",
     "text": [
      "----------------------------------------------------------------\n",
      "        Layer (type)               Output Shape         Param #\n",
      "================================================================\n",
      "            Conv2d-1         [128, 16, 12, 398]             448\n",
      "       BatchNorm2d-2         [128, 16, 12, 398]              32\n",
      "         MaxPool2d-3          [128, 16, 6, 199]               0\n",
      "            Conv2d-4          [128, 32, 6, 199]          12,832\n",
      "       BatchNorm2d-5          [128, 32, 6, 199]              64\n",
      "         MaxPool2d-6           [128, 32, 3, 99]               0\n",
      "           Flatten-7                [128, 9504]               0\n",
      "            Linear-8                 [128, 100]         950,500\n",
      "            Linear-9                   [128, 4]             404\n",
      "================================================================\n",
      "Total params: 964,280\n",
      "Trainable params: 964,280\n",
      "Non-trainable params: 0\n",
      "----------------------------------------------------------------\n",
      "Input size (MB): 8.20\n",
      "Forward/backward pass size (MB): 261.20\n",
      "Params size (MB): 3.68\n",
      "Estimated Total Size (MB): 273.08\n",
      "----------------------------------------------------------------\n"
     ]
    }
   ],
   "source": [
    "model3 = CNN_A().cuda()\n",
    "summary_(model3, (3, 14, 400), batch_size=128)"
   ]
  },
  {
   "cell_type": "markdown",
   "id": "6c682881",
   "metadata": {},
   "source": [
    "### **CNN + LSTM**"
   ]
  },
  {
   "cell_type": "code",
   "execution_count": 11,
   "id": "fa34c1d4",
   "metadata": {},
   "outputs": [
    {
     "name": "stdout",
     "output_type": "stream",
     "text": [
      "7239\n"
     ]
    }
   ],
   "source": [
    "model4 = CnnLSTM_Age(batch_size=1208).cuda()\n",
    "pytorch_total_params = sum(p.numel() for p in model4.parameters() if p.requires_grad)\n",
    "print(pytorch_total_params)"
   ]
  },
  {
   "cell_type": "code",
   "execution_count": 4,
   "id": "9aad4545",
   "metadata": {},
   "outputs": [
    {
     "name": "stdout",
     "output_type": "stream",
     "text": [
      "1572\n"
     ]
    }
   ],
   "source": [
    "model5 = RNN_A().cuda()\n",
    "pytorch_total_params = sum(p.numel() for p in model5.parameters() if p.requires_grad)\n",
    "print(pytorch_total_params)"
   ]
  },
  {
   "cell_type": "markdown",
   "id": "5dd61aa7",
   "metadata": {},
   "source": [
    "## **성별**"
   ]
  },
  {
   "cell_type": "markdown",
   "id": "197e7599",
   "metadata": {},
   "source": [
    "### **CNN**"
   ]
  },
  {
   "cell_type": "code",
   "execution_count": 46,
   "id": "8386e9af",
   "metadata": {},
   "outputs": [
    {
     "name": "stdout",
     "output_type": "stream",
     "text": [
      "964078\n"
     ]
    }
   ],
   "source": [
    "model6 = CNN_G().cuda()\n",
    "pytorch_total_params = sum(p.numel() for p in model6.parameters() if p.requires_grad)\n",
    "print(pytorch_total_params)"
   ]
  },
  {
   "cell_type": "code",
   "execution_count": 2,
   "id": "aec2ef39",
   "metadata": {},
   "outputs": [
    {
     "name": "stdout",
     "output_type": "stream",
     "text": [
      "6757\n"
     ]
    }
   ],
   "source": [
    "model7 = CnnLSTM_Gender().cuda()\n",
    "pytorch_total_params = sum(p.numel() for p in model7.parameters() if p.requires_grad)\n",
    "print(pytorch_total_params)"
   ]
  },
  {
   "cell_type": "code",
   "execution_count": 3,
   "id": "0c2f8a5b",
   "metadata": {},
   "outputs": [
    {
     "name": "stdout",
     "output_type": "stream",
     "text": [
      "1538\n"
     ]
    }
   ],
   "source": [
    "model8 = RNN_G().cuda()\n",
    "pytorch_total_params = sum(p.numel() for p in model8.parameters() if p.requires_grad)\n",
    "print(pytorch_total_params)"
   ]
  },
  {
   "cell_type": "markdown",
   "id": "377c713d",
   "metadata": {},
   "source": [
    "## **방언**"
   ]
  },
  {
   "cell_type": "markdown",
   "id": "09eccddd",
   "metadata": {},
   "source": [
    "### **CNN**"
   ]
  },
  {
   "cell_type": "code",
   "execution_count": 39,
   "id": "4067f31c",
   "metadata": {},
   "outputs": [
    {
     "name": "stdout",
     "output_type": "stream",
     "text": [
      "----------------------------------------------------------------\n",
      "        Layer (type)               Output Shape         Param #\n",
      "================================================================\n",
      "            Conv2d-1         [128, 16, 12, 398]             448\n",
      "       BatchNorm2d-2         [128, 16, 12, 398]              32\n",
      "         MaxPool2d-3          [128, 16, 6, 199]               0\n",
      "            Conv2d-4          [128, 32, 6, 199]          12,832\n",
      "       BatchNorm2d-5          [128, 32, 6, 199]              64\n",
      "         MaxPool2d-6           [128, 32, 3, 99]               0\n",
      "           Flatten-7                [128, 9504]               0\n",
      "            Linear-8                 [128, 100]         950,500\n",
      "            Linear-9                   [128, 6]             606\n",
      "================================================================\n",
      "Total params: 964,482\n",
      "Trainable params: 964,482\n",
      "Non-trainable params: 0\n",
      "----------------------------------------------------------------\n",
      "Input size (MB): 8.20\n",
      "Forward/backward pass size (MB): 261.20\n",
      "Params size (MB): 3.68\n",
      "Estimated Total Size (MB): 273.08\n",
      "----------------------------------------------------------------\n"
     ]
    }
   ],
   "source": [
    "model9 = CNN_D().cuda()\n",
    "summary_(model9, (3, 14, 400), batch_size=128)"
   ]
  },
  {
   "cell_type": "code",
   "execution_count": 5,
   "id": "27880d81",
   "metadata": {},
   "outputs": [
    {
     "name": "stdout",
     "output_type": "stream",
     "text": [
      "6825\n"
     ]
    }
   ],
   "source": [
    "model10 = CnnLSTM_Dialect(batch_size=128).cuda()\n",
    "pytorch_total_params = sum(p.numel() for p in model10.parameters() if p.requires_grad)\n",
    "print(pytorch_total_params)"
   ]
  },
  {
   "cell_type": "code",
   "execution_count": 4,
   "id": "5ff7730d",
   "metadata": {},
   "outputs": [
    {
     "name": "stdout",
     "output_type": "stream",
     "text": [
      "1606\n"
     ]
    }
   ],
   "source": [
    "model11 = RNN_D().cuda()\n",
    "pytorch_total_params = sum(p.numel() for p in model11.parameters() if p.requires_grad)\n",
    "print(pytorch_total_params)"
   ]
  },
  {
   "cell_type": "code",
   "execution_count": null,
   "id": "bc6e7c38",
   "metadata": {},
   "outputs": [],
   "source": []
  }
 ],
 "metadata": {
  "kernelspec": {
   "display_name": "Python 3 (ipykernel)",
   "language": "python",
   "name": "python3"
  },
  "language_info": {
   "codemirror_mode": {
    "name": "ipython",
    "version": 3
   },
   "file_extension": ".py",
   "mimetype": "text/x-python",
   "name": "python",
   "nbconvert_exporter": "python",
   "pygments_lexer": "ipython3",
   "version": "3.7.9"
  }
 },
 "nbformat": 4,
 "nbformat_minor": 5
}
